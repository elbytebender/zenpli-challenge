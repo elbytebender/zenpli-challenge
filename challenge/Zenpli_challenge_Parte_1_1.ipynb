{
  "nbformat": 4,
  "nbformat_minor": 0,
  "metadata": {
    "colab": {
      "provenance": []
    },
    "kernelspec": {
      "name": "python3",
      "display_name": "Python 3"
    },
    "language_info": {
      "name": "python"
    }
  },
  "cells": [
    {
      "cell_type": "markdown",
      "source": [
        "# Zenpli challenge\n",
        "\n",
        "### Parte 1.2"
      ],
      "metadata": {
        "id": "cLNmwNu2NJ3g"
      }
    },
    {
      "cell_type": "markdown",
      "source": [
        "Imports"
      ],
      "metadata": {
        "id": "Cs1byl-ZI_nJ"
      }
    },
    {
      "cell_type": "code",
      "source": [
        "import pandas as pd\n",
        "import numpy as np\n",
        "import time"
      ],
      "metadata": {
        "id": "FqjW7IaOI-yV"
      },
      "execution_count": 2,
      "outputs": []
    },
    {
      "cell_type": "markdown",
      "source": [
        "Leemos el archivo con Pandas"
      ],
      "metadata": {
        "id": "TBHUq60SJWVl"
      }
    },
    {
      "cell_type": "code",
      "source": [
        "pd_df = pd.read_csv(\"file:///content/backend-dev-data-dataset.txt\", parse_dates=['date_2'])"
      ],
      "metadata": {
        "id": "Kq4PhvCCJEhN"
      },
      "execution_count": 3,
      "outputs": []
    },
    {
      "cell_type": "markdown",
      "source": [
        "Mostramos esquema"
      ],
      "metadata": {
        "id": "YO835k24NMUR"
      }
    },
    {
      "cell_type": "code",
      "source": [
        "pd_df.info()"
      ],
      "metadata": {
        "colab": {
          "base_uri": "https://localhost:8080/"
        },
        "id": "NywqyGDSJuRT",
        "outputId": "433b93be-d00e-4705-c706-2210c4ecb862"
      },
      "execution_count": 5,
      "outputs": [
        {
          "output_type": "stream",
          "name": "stdout",
          "text": [
            "<class 'pandas.core.frame.DataFrame'>\n",
            "RangeIndex: 269339 entries, 0 to 269338\n",
            "Data columns (total 10 columns):\n",
            " #   Column   Non-Null Count   Dtype         \n",
            "---  ------   --------------   -----         \n",
            " 0   key_1    269339 non-null  object        \n",
            " 1   date_2   269339 non-null  datetime64[ns]\n",
            " 2   cont_3   269339 non-null  float64       \n",
            " 3   cont_4   269339 non-null  float64       \n",
            " 4   disc_5   269339 non-null  int64         \n",
            " 5   disc_6   269339 non-null  object        \n",
            " 6   cat_7    269339 non-null  object        \n",
            " 7   cat_8    269339 non-null  object        \n",
            " 8   cont_9   269338 non-null  float64       \n",
            " 9   cont_10  269338 non-null  object        \n",
            "dtypes: datetime64[ns](1), float64(3), int64(1), object(5)\n",
            "memory usage: 20.5+ MB\n"
          ]
        }
      ]
    },
    {
      "cell_type": "markdown",
      "source": [
        "Pre visualizamos datos"
      ],
      "metadata": {
        "id": "DwXRKY67NSZk"
      }
    },
    {
      "cell_type": "code",
      "source": [
        "pd_df.head()"
      ],
      "metadata": {
        "colab": {
          "base_uri": "https://localhost:8080/",
          "height": 206
        },
        "id": "bdMzso6jNQOA",
        "outputId": "6988de82-44cf-4317-d5d0-6ddefcb8dec5"
      },
      "execution_count": 37,
      "outputs": [
        {
          "output_type": "execute_result",
          "data": {
            "text/plain": [
              "    key_1     date_2   cont_3  cont_4  disc_5 disc_6     cat_7      cat_8  \\\n",
              "0  HC2030 2016-11-16   622.27   -2.36       2      6  frequent      happy   \n",
              "1  sP8147 2004-02-18  1056.16   59.93       2      8     never      happy   \n",
              "2  Cq3823 2007-03-25   210.73  -93.94       1      1     never      happy   \n",
              "3  Hw9428 2013-12-28  1116.48   80.58       3     10     never  surprised   \n",
              "4  xZ0360 2003-08-25  1038.30   12.37       6     17     never      happy   \n",
              "\n",
              "   cont_9 cont_10  \n",
              "0    0.24    0.25  \n",
              "1    1.94    2.29  \n",
              "2   -0.11    -0.1  \n",
              "3    1.27    1.15  \n",
              "4    1.76    1.76  "
            ],
            "text/html": [
              "\n",
              "\n",
              "  <div id=\"df-d0f4fa0b-5cec-487b-a29d-c0b7132e51be\">\n",
              "    <div class=\"colab-df-container\">\n",
              "      <div>\n",
              "<style scoped>\n",
              "    .dataframe tbody tr th:only-of-type {\n",
              "        vertical-align: middle;\n",
              "    }\n",
              "\n",
              "    .dataframe tbody tr th {\n",
              "        vertical-align: top;\n",
              "    }\n",
              "\n",
              "    .dataframe thead th {\n",
              "        text-align: right;\n",
              "    }\n",
              "</style>\n",
              "<table border=\"1\" class=\"dataframe\">\n",
              "  <thead>\n",
              "    <tr style=\"text-align: right;\">\n",
              "      <th></th>\n",
              "      <th>key_1</th>\n",
              "      <th>date_2</th>\n",
              "      <th>cont_3</th>\n",
              "      <th>cont_4</th>\n",
              "      <th>disc_5</th>\n",
              "      <th>disc_6</th>\n",
              "      <th>cat_7</th>\n",
              "      <th>cat_8</th>\n",
              "      <th>cont_9</th>\n",
              "      <th>cont_10</th>\n",
              "    </tr>\n",
              "  </thead>\n",
              "  <tbody>\n",
              "    <tr>\n",
              "      <th>0</th>\n",
              "      <td>HC2030</td>\n",
              "      <td>2016-11-16</td>\n",
              "      <td>622.27</td>\n",
              "      <td>-2.36</td>\n",
              "      <td>2</td>\n",
              "      <td>6</td>\n",
              "      <td>frequent</td>\n",
              "      <td>happy</td>\n",
              "      <td>0.24</td>\n",
              "      <td>0.25</td>\n",
              "    </tr>\n",
              "    <tr>\n",
              "      <th>1</th>\n",
              "      <td>sP8147</td>\n",
              "      <td>2004-02-18</td>\n",
              "      <td>1056.16</td>\n",
              "      <td>59.93</td>\n",
              "      <td>2</td>\n",
              "      <td>8</td>\n",
              "      <td>never</td>\n",
              "      <td>happy</td>\n",
              "      <td>1.94</td>\n",
              "      <td>2.29</td>\n",
              "    </tr>\n",
              "    <tr>\n",
              "      <th>2</th>\n",
              "      <td>Cq3823</td>\n",
              "      <td>2007-03-25</td>\n",
              "      <td>210.73</td>\n",
              "      <td>-93.94</td>\n",
              "      <td>1</td>\n",
              "      <td>1</td>\n",
              "      <td>never</td>\n",
              "      <td>happy</td>\n",
              "      <td>-0.11</td>\n",
              "      <td>-0.1</td>\n",
              "    </tr>\n",
              "    <tr>\n",
              "      <th>3</th>\n",
              "      <td>Hw9428</td>\n",
              "      <td>2013-12-28</td>\n",
              "      <td>1116.48</td>\n",
              "      <td>80.58</td>\n",
              "      <td>3</td>\n",
              "      <td>10</td>\n",
              "      <td>never</td>\n",
              "      <td>surprised</td>\n",
              "      <td>1.27</td>\n",
              "      <td>1.15</td>\n",
              "    </tr>\n",
              "    <tr>\n",
              "      <th>4</th>\n",
              "      <td>xZ0360</td>\n",
              "      <td>2003-08-25</td>\n",
              "      <td>1038.30</td>\n",
              "      <td>12.37</td>\n",
              "      <td>6</td>\n",
              "      <td>17</td>\n",
              "      <td>never</td>\n",
              "      <td>happy</td>\n",
              "      <td>1.76</td>\n",
              "      <td>1.76</td>\n",
              "    </tr>\n",
              "  </tbody>\n",
              "</table>\n",
              "</div>\n",
              "      <button class=\"colab-df-convert\" onclick=\"convertToInteractive('df-d0f4fa0b-5cec-487b-a29d-c0b7132e51be')\"\n",
              "              title=\"Convert this dataframe to an interactive table.\"\n",
              "              style=\"display:none;\">\n",
              "\n",
              "  <svg xmlns=\"http://www.w3.org/2000/svg\" height=\"24px\"viewBox=\"0 0 24 24\"\n",
              "       width=\"24px\">\n",
              "    <path d=\"M0 0h24v24H0V0z\" fill=\"none\"/>\n",
              "    <path d=\"M18.56 5.44l.94 2.06.94-2.06 2.06-.94-2.06-.94-.94-2.06-.94 2.06-2.06.94zm-11 1L8.5 8.5l.94-2.06 2.06-.94-2.06-.94L8.5 2.5l-.94 2.06-2.06.94zm10 10l.94 2.06.94-2.06 2.06-.94-2.06-.94-.94-2.06-.94 2.06-2.06.94z\"/><path d=\"M17.41 7.96l-1.37-1.37c-.4-.4-.92-.59-1.43-.59-.52 0-1.04.2-1.43.59L10.3 9.45l-7.72 7.72c-.78.78-.78 2.05 0 2.83L4 21.41c.39.39.9.59 1.41.59.51 0 1.02-.2 1.41-.59l7.78-7.78 2.81-2.81c.8-.78.8-2.07 0-2.86zM5.41 20L4 18.59l7.72-7.72 1.47 1.35L5.41 20z\"/>\n",
              "  </svg>\n",
              "      </button>\n",
              "\n",
              "\n",
              "\n",
              "    <div id=\"df-2b28f9ad-f279-4b04-a8b2-c2823526e264\">\n",
              "      <button class=\"colab-df-quickchart\" onclick=\"quickchart('df-2b28f9ad-f279-4b04-a8b2-c2823526e264')\"\n",
              "              title=\"Suggest charts.\"\n",
              "              style=\"display:none;\">\n",
              "\n",
              "<svg xmlns=\"http://www.w3.org/2000/svg\" height=\"24px\"viewBox=\"0 0 24 24\"\n",
              "     width=\"24px\">\n",
              "    <g>\n",
              "        <path d=\"M19 3H5c-1.1 0-2 .9-2 2v14c0 1.1.9 2 2 2h14c1.1 0 2-.9 2-2V5c0-1.1-.9-2-2-2zM9 17H7v-7h2v7zm4 0h-2V7h2v10zm4 0h-2v-4h2v4z\"/>\n",
              "    </g>\n",
              "</svg>\n",
              "      </button>\n",
              "    </div>\n",
              "\n",
              "<style>\n",
              "  .colab-df-quickchart {\n",
              "    background-color: #E8F0FE;\n",
              "    border: none;\n",
              "    border-radius: 50%;\n",
              "    cursor: pointer;\n",
              "    display: none;\n",
              "    fill: #1967D2;\n",
              "    height: 32px;\n",
              "    padding: 0 0 0 0;\n",
              "    width: 32px;\n",
              "  }\n",
              "\n",
              "  .colab-df-quickchart:hover {\n",
              "    background-color: #E2EBFA;\n",
              "    box-shadow: 0px 1px 2px rgba(60, 64, 67, 0.3), 0px 1px 3px 1px rgba(60, 64, 67, 0.15);\n",
              "    fill: #174EA6;\n",
              "  }\n",
              "\n",
              "  [theme=dark] .colab-df-quickchart {\n",
              "    background-color: #3B4455;\n",
              "    fill: #D2E3FC;\n",
              "  }\n",
              "\n",
              "  [theme=dark] .colab-df-quickchart:hover {\n",
              "    background-color: #434B5C;\n",
              "    box-shadow: 0px 1px 3px 1px rgba(0, 0, 0, 0.15);\n",
              "    filter: drop-shadow(0px 1px 2px rgba(0, 0, 0, 0.3));\n",
              "    fill: #FFFFFF;\n",
              "  }\n",
              "</style>\n",
              "\n",
              "    <script>\n",
              "      async function quickchart(key) {\n",
              "        const containerElement = document.querySelector('#' + key);\n",
              "        const charts = await google.colab.kernel.invokeFunction(\n",
              "            'suggestCharts', [key], {});\n",
              "      }\n",
              "    </script>\n",
              "\n",
              "      <script>\n",
              "\n",
              "function displayQuickchartButton(domScope) {\n",
              "  let quickchartButtonEl =\n",
              "    domScope.querySelector('#df-2b28f9ad-f279-4b04-a8b2-c2823526e264 button.colab-df-quickchart');\n",
              "  quickchartButtonEl.style.display =\n",
              "    google.colab.kernel.accessAllowed ? 'block' : 'none';\n",
              "}\n",
              "\n",
              "        displayQuickchartButton(document);\n",
              "      </script>\n",
              "      <style>\n",
              "    .colab-df-container {\n",
              "      display:flex;\n",
              "      flex-wrap:wrap;\n",
              "      gap: 12px;\n",
              "    }\n",
              "\n",
              "    .colab-df-convert {\n",
              "      background-color: #E8F0FE;\n",
              "      border: none;\n",
              "      border-radius: 50%;\n",
              "      cursor: pointer;\n",
              "      display: none;\n",
              "      fill: #1967D2;\n",
              "      height: 32px;\n",
              "      padding: 0 0 0 0;\n",
              "      width: 32px;\n",
              "    }\n",
              "\n",
              "    .colab-df-convert:hover {\n",
              "      background-color: #E2EBFA;\n",
              "      box-shadow: 0px 1px 2px rgba(60, 64, 67, 0.3), 0px 1px 3px 1px rgba(60, 64, 67, 0.15);\n",
              "      fill: #174EA6;\n",
              "    }\n",
              "\n",
              "    [theme=dark] .colab-df-convert {\n",
              "      background-color: #3B4455;\n",
              "      fill: #D2E3FC;\n",
              "    }\n",
              "\n",
              "    [theme=dark] .colab-df-convert:hover {\n",
              "      background-color: #434B5C;\n",
              "      box-shadow: 0px 1px 3px 1px rgba(0, 0, 0, 0.15);\n",
              "      filter: drop-shadow(0px 1px 2px rgba(0, 0, 0, 0.3));\n",
              "      fill: #FFFFFF;\n",
              "    }\n",
              "  </style>\n",
              "\n",
              "      <script>\n",
              "        const buttonEl =\n",
              "          document.querySelector('#df-d0f4fa0b-5cec-487b-a29d-c0b7132e51be button.colab-df-convert');\n",
              "        buttonEl.style.display =\n",
              "          google.colab.kernel.accessAllowed ? 'block' : 'none';\n",
              "\n",
              "        async function convertToInteractive(key) {\n",
              "          const element = document.querySelector('#df-d0f4fa0b-5cec-487b-a29d-c0b7132e51be');\n",
              "          const dataTable =\n",
              "            await google.colab.kernel.invokeFunction('convertToInteractive',\n",
              "                                                     [key], {});\n",
              "          if (!dataTable) return;\n",
              "\n",
              "          const docLinkHtml = 'Like what you see? Visit the ' +\n",
              "            '<a target=\"_blank\" href=https://colab.research.google.com/notebooks/data_table.ipynb>data table notebook</a>'\n",
              "            + ' to learn more about interactive tables.';\n",
              "          element.innerHTML = '';\n",
              "          dataTable['output_type'] = 'display_data';\n",
              "          await google.colab.output.renderOutput(dataTable, element);\n",
              "          const docLink = document.createElement('div');\n",
              "          docLink.innerHTML = docLinkHtml;\n",
              "          element.appendChild(docLink);\n",
              "        }\n",
              "      </script>\n",
              "    </div>\n",
              "  </div>\n"
            ]
          },
          "metadata": {},
          "execution_count": 37
        }
      ]
    },
    {
      "cell_type": "markdown",
      "source": [
        "Definimos funciones para validar esquemas, buscar nulos y validar duplicados en la columna key"
      ],
      "metadata": {
        "id": "RV3uVInwNbtY"
      }
    },
    {
      "cell_type": "code",
      "source": [
        "\n",
        "\n",
        "def check_schema(df):\n",
        "    print(\"\\n-----Validating schema for df\")\n",
        "    print(df.info())\n",
        "\n",
        "def check_null_values(df):\n",
        "    print(\"\\n-----Checking null values\")\n",
        "    miss_val = df.isnull().sum()\n",
        "    miss_val_percent = 100 * df.isnull().sum() / len(df)\n",
        "    miss_val_table = pd.concat([miss_val, miss_val_percent], axis=1)\n",
        "    miss_val_table_ren_columns = miss_val_table.rename(\n",
        "    columns = {0 : 'Missing Values', 1 : '% of Total Values'})\n",
        "    miss_val_table_ren_columns = miss_val_table_ren_columns[\n",
        "        miss_val_table_ren_columns.iloc[:,1] != 0].sort_values(\n",
        "    '% of Total Values', ascending=False).round(1)\n",
        "    print (f\"Your selected dataframe has {str(df.shape[1])} columns.\\n There are {str(miss_val_table_ren_columns.shape[0])} columns that have missing values.\")\n",
        "    print(miss_val_table_ren_columns)\n",
        "\n",
        "def find_duplicates_in_key(df):\n",
        "    print(\"\\n-----Searching for duplicated keys in df\")\n",
        "    print(pd_df[['key_1']].groupby('key_1').filter(lambda x: x['key_1'].count() > 1).count())\n"
      ],
      "metadata": {
        "id": "J9sTkhzsJJBw"
      },
      "execution_count": 41,
      "outputs": []
    },
    {
      "cell_type": "markdown",
      "source": [
        "Execution without parallelism"
      ],
      "metadata": {
        "id": "gqA78bohKFUq"
      }
    },
    {
      "cell_type": "code",
      "source": [
        "time_start = time.time()\n",
        "find_duplicates_in_key(pd_df)\n",
        "check_schema(pd_df)\n",
        "check_null_values(pd_df)\n",
        "time_end = time.time()\n",
        "print(f'\\nAll done! Took {round(time_end - time_start, 2)} seconds')"
      ],
      "metadata": {
        "colab": {
          "base_uri": "https://localhost:8080/"
        },
        "id": "IuK7jIBIJLMj",
        "outputId": "e778bc67-0b2c-44de-d803-c570636280e3"
      },
      "execution_count": 39,
      "outputs": [
        {
          "output_type": "stream",
          "name": "stdout",
          "text": [
            "-----Searching for duplicated keys in df\n",
            "key_1    2686\n",
            "dtype: int64\n",
            "-----Validating schema for df\n",
            "<class 'pandas.core.frame.DataFrame'>\n",
            "RangeIndex: 269339 entries, 0 to 269338\n",
            "Data columns (total 10 columns):\n",
            " #   Column   Non-Null Count   Dtype         \n",
            "---  ------   --------------   -----         \n",
            " 0   key_1    269339 non-null  object        \n",
            " 1   date_2   269339 non-null  datetime64[ns]\n",
            " 2   cont_3   269339 non-null  float64       \n",
            " 3   cont_4   269339 non-null  float64       \n",
            " 4   disc_5   269339 non-null  int64         \n",
            " 5   disc_6   269339 non-null  object        \n",
            " 6   cat_7    269339 non-null  object        \n",
            " 7   cat_8    269339 non-null  object        \n",
            " 8   cont_9   269338 non-null  float64       \n",
            " 9   cont_10  269338 non-null  object        \n",
            "dtypes: datetime64[ns](1), float64(3), int64(1), object(5)\n",
            "memory usage: 20.5+ MB\n",
            "None\n",
            "-----Checking null values\n",
            "Your selected dataframe has 10 columns.\n",
            " There are 2 columns that have missing values.\n",
            "         Missing Values  % of Total Values\n",
            "cont_9                1                0.0\n",
            "cont_10               1                0.0\n",
            "\n",
            "All done! Took 26.97 seconds\n"
          ]
        }
      ]
    },
    {
      "cell_type": "markdown",
      "source": [
        "Execution using ThreadPoolExecutor\n",
        "\n",
        "\n"
      ],
      "metadata": {
        "id": "zhDSVn8iKIj2"
      }
    },
    {
      "cell_type": "code",
      "source": [
        "time_start = time.time()\n",
        "from concurrent.futures import ThreadPoolExecutor\n",
        "\n",
        "with ThreadPoolExecutor(3) as executor:\n",
        "    executor.submit(find_duplicates_in_key(pd_df))\n",
        "    executor.submit(check_schema(pd_df))\n",
        "    executor.submit(check_null_values(pd_df))\n",
        "time_end = time.time()\n",
        "print(f'\\nAll done! Took {round(time_end - time_start, 2)} seconds')"
      ],
      "metadata": {
        "colab": {
          "base_uri": "https://localhost:8080/"
        },
        "id": "4Iq2fi1LJNMr",
        "outputId": "437f8752-878b-41e9-de01-6a0dbc6c0078"
      },
      "execution_count": 40,
      "outputs": [
        {
          "output_type": "stream",
          "name": "stdout",
          "text": [
            "-----Searching for duplicated keys in df\n",
            "key_1    2686\n",
            "dtype: int64\n",
            "-----Validating schema for df\n",
            "<class 'pandas.core.frame.DataFrame'>\n",
            "RangeIndex: 269339 entries, 0 to 269338\n",
            "Data columns (total 10 columns):\n",
            " #   Column   Non-Null Count   Dtype         \n",
            "---  ------   --------------   -----         \n",
            " 0   key_1    269339 non-null  object        \n",
            " 1   date_2   269339 non-null  datetime64[ns]\n",
            " 2   cont_3   269339 non-null  float64       \n",
            " 3   cont_4   269339 non-null  float64       \n",
            " 4   disc_5   269339 non-null  int64         \n",
            " 5   disc_6   269339 non-null  object        \n",
            " 6   cat_7    269339 non-null  object        \n",
            " 7   cat_8    269339 non-null  object        \n",
            " 8   cont_9   269338 non-null  float64       \n",
            " 9   cont_10  269338 non-null  object        \n",
            "dtypes: datetime64[ns](1), float64(3), int64(1), object(5)\n",
            "memory usage: 20.5+ MB\n",
            "None\n",
            "-----Checking null values\n",
            "Your selected dataframe has 10 columns.\n",
            " There are 2 columns that have missing values.\n",
            "         Missing Values  % of Total Values\n",
            "cont_9                1                0.0\n",
            "cont_10               1                0.0\n",
            "\n",
            "All done! Took 28.27 seconds\n"
          ]
        }
      ]
    },
    {
      "cell_type": "markdown",
      "source": [
        "Execution using ProcessPoolExecutor"
      ],
      "metadata": {
        "id": "GFe2lVeFKQ_d"
      }
    },
    {
      "cell_type": "code",
      "source": [
        "time_start = time.time()\n",
        "from concurrent.futures import ProcessPoolExecutor\n",
        "with ProcessPoolExecutor(3) as pexecutor:\n",
        "    pexecutor.submit(find_duplicates_in_key(pd_df))\n",
        "    pexecutor.submit(check_schema(pd_df))\n",
        "    pexecutor.submit(check_null_values(pd_df))\n",
        "time_end = time.time()\n",
        "print(f'\\nAll done! Took {round(time_end - time_start, 2)} seconds')"
      ],
      "metadata": {
        "colab": {
          "base_uri": "https://localhost:8080/"
        },
        "id": "dlulWcO0JPi8",
        "outputId": "e2dc14d9-88a6-4bac-b495-171cfbb9f921"
      },
      "execution_count": 42,
      "outputs": [
        {
          "output_type": "stream",
          "name": "stdout",
          "text": [
            "\n",
            "-----Searching for duplicated keys in df\n",
            "key_1    2686\n",
            "dtype: int64\n",
            "\n",
            "-----Validating schema for df\n",
            "<class 'pandas.core.frame.DataFrame'>\n",
            "RangeIndex: 269339 entries, 0 to 269338\n",
            "Data columns (total 10 columns):\n",
            " #   Column   Non-Null Count   Dtype         \n",
            "---  ------   --------------   -----         \n",
            " 0   key_1    269339 non-null  object        \n",
            " 1   date_2   269339 non-null  datetime64[ns]\n",
            " 2   cont_3   269339 non-null  float64       \n",
            " 3   cont_4   269339 non-null  float64       \n",
            " 4   disc_5   269339 non-null  int64         \n",
            " 5   disc_6   269339 non-null  object        \n",
            " 6   cat_7    269339 non-null  object        \n",
            " 7   cat_8    269339 non-null  object        \n",
            " 8   cont_9   269338 non-null  float64       \n",
            " 9   cont_10  269338 non-null  object        \n",
            "dtypes: datetime64[ns](1), float64(3), int64(1), object(5)\n",
            "memory usage: 20.5+ MB\n",
            "None\n",
            "\n",
            "-----Checking null values\n",
            "Your selected dataframe has 10 columns.\n",
            " There are 2 columns that have missing values.\n",
            "         Missing Values  % of Total Values\n",
            "cont_9                1                0.0\n",
            "cont_10               1                0.0\n",
            "\n",
            "All done! Took 27.12 seconds\n"
          ]
        }
      ]
    }
  ]
}